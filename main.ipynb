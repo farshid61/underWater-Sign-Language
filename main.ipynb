{
 "cells": [
  {
   "cell_type": "markdown",
   "id": "f32c47a6-9743-4421-9ea2-ffeecf2d7fd9",
   "metadata": {},
   "source": [
    "#### **Imports & Setup**"
   ]
  },
  {
   "cell_type": "code",
   "execution_count": 2,
   "id": "6e157057-6988-4d37-8a8c-c6c6b2e03099",
   "metadata": {},
   "outputs": [],
   "source": [
    "import torch\n",
    "from torch.utils.data import Dataset\n",
    "from torchvision import transforms\n",
    "from torchvision.models.video import r3d_18, R3D_18_Weights\n",
    "from torchvision.models import resnet18, ResNet18_Weights\n",
    "import torch.nn as nn\n",
    "from torch.utils.data import DataLoader\n",
    "from torch.utils.data import Subset\n",
    "from PIL import Image\n",
    "import pandas as pd\n",
    "import os\n",
    "import glob\n",
    "from torch.utils.data import DataLoader\n",
    "import random\n",
    "import matplotlib.pyplot as plt\n"
   ]
  },
  {
   "cell_type": "markdown",
   "id": "d6bc6bea-14ab-4b85-93b1-2dab6c4b1cd5",
   "metadata": {},
   "source": [
    "### **Dataset Definition**\n",
    "\n"
   ]
  },
  {
   "cell_type": "code",
   "execution_count": 3,
   "id": "d64d8cfa-d98d-423a-b0cb-1e0329b71ee0",
   "metadata": {},
   "outputs": [],
   "source": [
    "class SignLanguage3DDataset(Dataset):\n",
    "    \"\"\"\n",
    "        SignLanguage3DDataset\n",
    "        \n",
    "        A custom PyTorch Dataset for loading sign language image sequences as 3D data.\n",
    "        It reads from a root directory of images and a CSV file that maps image filenames to class labels.\n",
    "        \n",
    "        Attributes:\n",
    "        -----------\n",
    "        - root_dir (str): Root folder containing images, organized in a flat structure (All_in_one).\n",
    "        - csv_path (str): CSV file path containing mappings between images and label names (gesture_labels.csv).\n",
    "        - num_frames (int): Number of frames per video clip (default = 16).\n",
    "        - image_size (tuple): Target size to resize each image to (default = (112, 112)).\n",
    "        - classes (list): Sorted list of unique class labels.\n",
    "        - data (list): A list of tuples [(image_path_list, label_name), ...].\n",
    "        \n",
    "        Initialization:\n",
    "        ---------------\n",
    "        - Loads the CSV and builds a mapping from image filename to label.\n",
    "        - Scans the root directory recursively for .jpg and .png files.\n",
    "        - Keeps only images that are listed in the CSV and stores their paths with corresponding labels.\n",
    "        - Applies standard image transformations (resize, normalize, convert to tensor).\n",
    "        \n",
    "        Methods:\n",
    "        --------\n",
    "        __len__:\n",
    "            Returns the number of data samples.\n",
    "        \n",
    "        __getitem__(idx):\n",
    "            - Loads the image(s) for a given index.\n",
    "            - Pads or samples to ensure exactly `num_frames` frames.\n",
    "            - Extracts the center frame of the clip to return.\n",
    "            - Converts the label string to a numeric class index.\n",
    "            - Returns a tuple: (center_frame [C, H, W], label_index [int]).\n",
    "        \n",
    "        load_frames(image_paths):\n",
    "            - Applies image transformations.\n",
    "            - If fewer than `num_frames`, repeats the last frame.\n",
    "            - If more than `num_frames`, randomly samples `num_frames` frames.\n",
    "            - Returns a 4D tensor of shape [C, D, H, W], where:\n",
    "                - C = channels (3)\n",
    "                - D = depth (number of frames)\n",
    "                - H/W = height and width\n",
    "    \"\"\"\n",
    "    def __init__(self, root_dir,csv_path, num_frames=16, image_size=(112, 112)):\n",
    "        self.root_dir = root_dir\n",
    "        self.num_frames = num_frames\n",
    "        self.image_size = image_size\n",
    "        self.classes = sorted(os.listdir(root_dir))\n",
    "        self.data = []\n",
    "\n",
    "        # Load CSV and build a filename -> label name map\n",
    "        df = pd.read_csv(csv_path)\n",
    "        self.filename_to_label = {}\n",
    "\n",
    "        for _, row in df.iterrows():\n",
    "            left_name = os.path.basename(row['stereo left'])\n",
    "            right_name = os.path.basename(row['stereo right'])\n",
    "            label = row['label name']\n",
    "            self.filename_to_label[left_name] = label\n",
    "            self.filename_to_label[right_name] = label\n",
    "\n",
    "        # Get all unique class names\n",
    "        self.classes = sorted(set(self.filename_to_label.values()))\n",
    "\n",
    "        # Collect image paths and assign labels from CSV\n",
    "        image_files = glob.glob(os.path.join(root_dir, '**', '*.jpg'), recursive=True) + \\\n",
    "                      glob.glob(os.path.join(root_dir, '**', '*.png'), recursive=True)\n",
    "\n",
    "        for img_path in image_files:\n",
    "            img_name = os.path.basename(img_path)\n",
    "            if img_name in self.filename_to_label:\n",
    "                label = self.filename_to_label[img_name]\n",
    "                self.data.append(([img_path], label))\n",
    "\n",
    "        self.transform = transforms.Compose([\n",
    "            transforms.Resize(self.image_size),\n",
    "            transforms.ToTensor(),\n",
    "            transforms.Normalize(mean=[0.5]*3, std=[0.5]*3)\n",
    "        ])\n",
    "    def __len__(self):\n",
    "        return len(self.data)\n",
    "    \n",
    "    def load_frames(self, image_paths):\n",
    "        # Load and process each image\n",
    "        frames = [self.transform(Image.open(p).convert(\"RGB\")) for p in image_paths]\n",
    "        \n",
    "        if len(frames) < self.num_frames:\n",
    "            # Repeat last frame to match length\n",
    "            frames += [frames[-1]] * (self.num_frames - len(frames))\n",
    "        elif len(frames) > self.num_frames:\n",
    "            # Randomly sample frames\n",
    "            indices = sorted(random.sample(range(len(frames)), self.num_frames))\n",
    "            frames = [frames[i] for i in indices]\n",
    "        \n",
    "        return torch.stack(frames, dim=1)  # Shape: [C, D, H, W]\n",
    "    \n",
    "    def __getitem__(self, idx):\n",
    "        frame_paths, label = self.data[idx]\n",
    "        clip = self.load_frames(frame_paths)  # [C, D, H, W]\n",
    "    \n",
    "        center_frame = clip[:, self.num_frames // 2, :, :]  # extract center frame → [C, H, W]\n",
    "    \n",
    "        label_idx = self.classes.index(label)\n",
    "        return center_frame, label_idx"
   ]
  },
  {
   "cell_type": "markdown",
   "id": "65908729-5e85-433e-a565-6a42d5d01d1c",
   "metadata": {},
   "source": [
    "#### **Load & Initialize Dataset**"
   ]
  },
  {
   "cell_type": "code",
   "execution_count": 4,
   "id": "434f882d-7276-400f-8906-81c3023d2286",
   "metadata": {},
   "outputs": [],
   "source": [
    "# 0. Load dataset\n",
    "root_dir = \"All_in_one\"\n",
    "csv_path = \"gesture_labels.csv\"\n",
    "\n",
    "# 1. Create the full dataset\n",
    "dataset = SignLanguage3DDataset(root_dir, csv_path)\n"
   ]
  },
  {
   "cell_type": "markdown",
   "id": "03aa1e83-0964-4aae-9ea9-ae1815888b69",
   "metadata": {},
   "source": [
    "### **Data Splitting & Loading**\n",
    "Split dataset into train/validation/test subsets and create corresponding DataLoaders.\n"
   ]
  },
  {
   "cell_type": "code",
   "execution_count": 22,
   "id": "4a9c8b30-95c7-4598-92d1-59aab32a4e36",
   "metadata": {},
   "outputs": [],
   "source": [
    "# 2. Shuffle and split indices\n",
    "total_size = len(dataset)\n",
    "\n",
    "indices = list(range(total_size))\n",
    "random.shuffle(indices)\n",
    "\n",
    "train_split = int(0.7 * total_size)\n",
    "val_split = int(0.85 * total_size)\n",
    "\n",
    "train_indices = indices[:train_split]\n",
    "val_indices = indices[train_split:val_split]\n",
    "test_indices = indices[val_split:]\n",
    "\n",
    "# 3. Create subsets\n",
    "train_dataset = Subset(dataset, train_indices)\n",
    "val_dataset = Subset(dataset, val_indices)\n",
    "test_dataset = Subset(dataset, test_indices)\n",
    "\n",
    "# 4. Create DataLoaders\n",
    "train_loader = DataLoader(train_dataset, batch_size=32, shuffle=True)\n",
    "val_loader = DataLoader(val_dataset, batch_size=16, shuffle=False)\n",
    "test_loader = DataLoader(test_dataset, batch_size=16, shuffle=False)\n",
    "\n",
    "\n",
    "# 5. Load ResNet18 model\n",
    "model = resnet18(weights=ResNet18_Weights.DEFAULT)  # -> because our dataset is single frame. for sequences use the below model\n",
    "# model = r3d_18(weights=R3D_18_Weights.DEFAULT)\n",
    "\n",
    "model.fc = nn.Linear(model.fc.in_features, len(dataset.classes)) \n",
    "device = torch.device('cuda' if torch.cuda.is_available() else 'cpu')\n",
    "model = model.to(device)\n",
    "\n",
    "\n",
    "# 6. Loss and optimizer\n",
    "criterion = nn.CrossEntropyLoss()\n",
    "optimizer = torch.optim.Adam(model.parameters(), lr=1e-4)\n",
    "train_losses = []\n",
    "val_losses = []\n",
    "\n",
    "best_val_loss = float('inf')\n",
    "best_model_path = 'best_model.pth'"
   ]
  },
  {
   "cell_type": "markdown",
   "id": "216ebdd3-4096-4a2b-834b-a91e22ab1373",
   "metadata": {},
   "source": [
    "### **Model Training & Loss Visualization**"
   ]
  },
  {
   "cell_type": "code",
   "execution_count": 37,
   "id": "e96bc630-6656-4cea-b1ce-94e1f10da548",
   "metadata": {},
   "outputs": [
    {
     "name": "stdout",
     "output_type": "stream",
     "text": [
      "Epoch 1, Train Loss: 278.0578, Val Loss: 0.0689\n",
      "Saved best model at epoch 1 with val loss: 0.0689\n",
      "Epoch 2, Train Loss: 36.7456, Val Loss: 0.0627\n",
      "Saved best model at epoch 2 with val loss: 0.0627\n",
      "Epoch 3, Train Loss: 22.9071, Val Loss: 0.0301\n",
      "Saved best model at epoch 3 with val loss: 0.0301\n",
      "Epoch 4, Train Loss: 19.0471, Val Loss: 0.0263\n",
      "Saved best model at epoch 4 with val loss: 0.0263\n",
      "Epoch 5, Train Loss: 13.5741, Val Loss: 0.0774\n",
      "Epoch 6, Train Loss: 18.2561, Val Loss: 0.0402\n",
      "Epoch 7, Train Loss: 11.3685, Val Loss: 0.0144\n",
      "Saved best model at epoch 7 with val loss: 0.0144\n",
      "Epoch 8, Train Loss: 9.9407, Val Loss: 0.0241\n",
      "Epoch 9, Train Loss: 13.3958, Val Loss: 0.0219\n",
      "Epoch 10, Train Loss: 9.3404, Val Loss: 0.0211\n"
     ]
    },
    {
     "data": {
      "image/png": "[encoded data removed]",
      "text/plain": [
       "<Figure size 1200x400 with 2 Axes>"
      ]
     },
     "metadata": {},
     "output_type": "display_data"
    }
   ],
   "source": [
    "# 7. Training loop\n",
    "for epoch in range(10):\n",
    "    model.train()\n",
    "    total_loss = 0\n",
    "\n",
    "    for clips, labels in train_loader:\n",
    "        clips = clips.to(device)\n",
    "        labels = labels.to(device)\n",
    "\n",
    "        outputs = model(clips)\n",
    "        loss = criterion(outputs, labels)\n",
    "\n",
    "        optimizer.zero_grad()\n",
    "        loss.backward()\n",
    "        optimizer.step()\n",
    "\n",
    "        total_loss += loss.item()\n",
    "    # Validation step\n",
    "    model.eval()\n",
    "    val_loss = 0\n",
    "    with torch.no_grad():\n",
    "        for clips, labels in val_loader:\n",
    "            clips = clips.to(device)\n",
    "            labels = labels.to(device)\n",
    "\n",
    "            outputs = model(clips)\n",
    "            loss = criterion(outputs, labels)\n",
    "            val_loss += loss.item()\n",
    "\n",
    "    avg_val_loss = val_loss / len(val_loader)\n",
    "\n",
    "    train_losses.append(total_loss)\n",
    "    val_losses.append(avg_val_loss)\n",
    "    print(f\"Epoch {epoch+1}, Train Loss: {total_loss:.4f}, Val Loss: {avg_val_loss:.4f}\")\n",
    "    \n",
    "    # Save best model\n",
    "    if avg_val_loss < best_val_loss:\n",
    "        best_val_loss = avg_val_loss\n",
    "        torch.save(model.state_dict(), best_model_path)\n",
    "        print(f\"Saved best model at epoch {epoch+1} with val loss: {avg_val_loss:.4f}\")\n",
    "    \n",
    "fig, axs = plt.subplots(1, 2, figsize=(12, 4))  # 1 row, 2 columns\n",
    "\n",
    "# Training Loss\n",
    "axs[0].plot(train_losses, label='Train Loss')\n",
    "axs[0].set_xlabel('Epoch')\n",
    "axs[0].set_ylabel('Loss')\n",
    "axs[0].set_title('Training Loss')\n",
    "axs[0].legend()\n",
    "axs[0].grid(True)\n",
    "\n",
    "# Validation Loss (in orange)\n",
    "axs[1].plot(val_losses, label='Validation Loss', color='orange')\n",
    "axs[1].set_xlabel('Epoch')\n",
    "axs[1].set_ylabel('Loss')\n",
    "axs[1].set_title('Validation Loss')\n",
    "axs[1].legend()\n",
    "axs[1].grid(True)\n",
    "\n",
    "plt.tight_layout()\n",
    "plt.show()"
   ]
  },
  {
   "cell_type": "markdown",
   "id": "6afd984f-72a3-46f5-bcd4-e3ef19647b77",
   "metadata": {},
   "source": [
    "### **Test Model & Evaluate Performance**\n",
    "Load the best model, run inference on test data, and compute final loss and accuracy."
   ]
  },
  {
   "cell_type": "code",
   "execution_count": 8,
   "id": "c3204d1e-5cf8-4343-afbf-d0d17a86fa33",
   "metadata": {},
   "outputs": [
    {
     "name": "stdout",
     "output_type": "stream",
     "text": [
      "Test Loss: 0.0040, Test Accuracy: 99.84%\n"
     ]
    }
   ],
   "source": [
    "# 8. Inference Stage\n",
    "state_dict = torch.load(\"best_model.pth\", map_location=device, weights_only=True)\n",
    "model.load_state_dict(state_dict)\n",
    "model.eval()\n",
    "\n",
    "test_loss = 0\n",
    "correct = 0\n",
    "total = 0\n",
    "\n",
    "with torch.no_grad():\n",
    "    for clips, labels in test_loader:\n",
    "        clips = clips.to(device)\n",
    "        labels = labels.to(device)\n",
    "\n",
    "        outputs = model(clips)\n",
    "        loss = criterion(outputs, labels)\n",
    "        test_loss += loss.item()\n",
    "\n",
    "        # Get predictions\n",
    "        _, predicted = torch.max(outputs, 1)\n",
    "        correct += (predicted == labels).sum().item()\n",
    "        total += labels.size(0)\n",
    "\n",
    "avg_test_loss = test_loss / len(test_loader)\n",
    "accuracy = 100 * correct / total\n",
    "\n",
    "print(f\"Test Loss: {avg_test_loss:.4f}, Test Accuracy: {accuracy:.2f}%\")\n"
   ]
  },
  {
   "cell_type": "markdown",
   "id": "7a126639-d86c-44b8-96e5-75fb07096611",
   "metadata": {},
   "source": [
    "#### **Single Image Prediction**"
   ]
  },
  {
   "cell_type": "code",
   "execution_count": 15,
   "id": "6c95a7e7-3fcf-460e-a589-08e87c2bf868",
   "metadata": {},
   "outputs": [
    {
     "name": "stdout",
     "output_type": "stream",
     "text": [
      "Predicted gesture: photo\n"
     ]
    }
   ],
   "source": [
    "# 9. guess the gesture\n",
    "transform = transforms.Compose([\n",
    "    transforms.Resize((112, 112)),\n",
    "    transforms.ToTensor(),\n",
    "    transforms.Normalize(mean=[0.5]*3, std=[0.5]*3)\n",
    "])\n",
    "\n",
    "image_path = \"genova-A_02867_right.jpg\"\n",
    "image = Image.open(image_path).convert(\"RGB\")\n",
    "input_tensor = transform(image).unsqueeze(0)\n",
    "input_tensor = input_tensor.to(device)\n",
    "model.eval()\n",
    "\n",
    "# Predict\n",
    "with torch.no_grad():\n",
    "    output = model(input_tensor)\n",
    "    _, predicted = torch.max(output, 1)\n",
    "    predicted_class = dataset.classes[predicted.item()]\n",
    "\n",
    "print(\"Predicted gesture:\", predicted_class)\n"
   ]
  },
  {
   "cell_type": "code",
   "execution_count": null,
   "id": "9f5dbd25-8f91-4534-8edb-01ea361971a1",
   "metadata": {},
   "outputs": [],
   "source": []
  }
 ],
 "metadata": {
  "kernelspec": {
   "display_name": "Python 3 (ipykernel)",
   "language": "python",
   "name": "python3"
  },
  "language_info": {
   "codemirror_mode": {
    "name": "ipython",
    "version": 3
   },
   "file_extension": ".py",
   "mimetype": "text/x-python",
   "name": "python",
   "nbconvert_exporter": "python",
   "pygments_lexer": "ipython3",
   "version": "3.12.7"
  }
 },
 "nbformat": 4,
 "nbformat_minor": 5
}
